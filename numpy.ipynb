{
 "cells": [
  {
   "cell_type": "code",
   "execution_count": 622,
   "metadata": {},
   "outputs": [
    {
     "data": {
      "text/plain": [
       "array([5, 4, 3, 2, 1])"
      ]
     },
     "execution_count": 622,
     "metadata": {},
     "output_type": "execute_result"
    }
   ],
   "source": [
    "import numpy as np  #1\n",
    "\n",
    "a = np.array([1 , 2 , 3 , 4 , 5 ]) \n",
    "a[::-1]"
   ]
  },
  {
   "cell_type": "code",
   "execution_count": 623,
   "metadata": {},
   "outputs": [
    {
     "data": {
      "text/plain": [
       "array([10, 30, 50])"
      ]
     },
     "execution_count": 623,
     "metadata": {},
     "output_type": "execute_result"
    }
   ],
   "source": [
    "#2\n",
    "\n",
    "a[::2] * 10"
   ]
  },
  {
   "cell_type": "code",
   "execution_count": 624,
   "metadata": {},
   "outputs": [
    {
     "data": {
      "text/plain": [
       "array([ 1,  9, 25], dtype=int32)"
      ]
     },
     "execution_count": 624,
     "metadata": {},
     "output_type": "execute_result"
    }
   ],
   "source": [
    "#3\n",
    "\n",
    "a[::2] ** 2"
   ]
  },
  {
   "cell_type": "code",
   "execution_count": 625,
   "metadata": {},
   "outputs": [
    {
     "data": {
      "text/plain": [
       "array([[1, 2, 3],\n",
       "       [4, 5, 6],\n",
       "       [7, 8, 9]])"
      ]
     },
     "execution_count": 625,
     "metadata": {},
     "output_type": "execute_result"
    }
   ],
   "source": [
    "#4\n",
    "\n",
    "ex4 = np.array([1 , 2 , 3 , 4 , 5 , 6 , 7 , 8 , 9]) \n",
    "ex4.reshape((3,3))\n"
   ]
  },
  {
   "cell_type": "code",
   "execution_count": 626,
   "metadata": {},
   "outputs": [
    {
     "data": {
      "text/plain": [
       "array([2, 5])"
      ]
     },
     "execution_count": 626,
     "metadata": {},
     "output_type": "execute_result"
    }
   ],
   "source": [
    "#5\n",
    "\n",
    "c = np.array([[1,2,3],[4,5,6]])\n",
    "c[ :, 1]"
   ]
  },
  {
   "cell_type": "code",
   "execution_count": 627,
   "metadata": {},
   "outputs": [
    {
     "data": {
      "text/plain": [
       "array([[ 1,  2,  3, 10, 20, 30],\n",
       "       [ 4,  5,  6, 40, 50, 60],\n",
       "       [ 7,  8,  9, 70, 80, 90]])"
      ]
     },
     "execution_count": 627,
     "metadata": {},
     "output_type": "execute_result"
    }
   ],
   "source": [
    "#6\n",
    "\n",
    "N = 9\n",
    "def tab(n) :\n",
    "    ex6 = np.arange(1, n + 1).reshape(3, 3)\n",
    "    ex6_2 = ex6 * 10\n",
    "    return np.concatenate((ex6, ex6_2), axis=1)\n",
    "    \n",
    "\n",
    "tab(N)"
   ]
  },
  {
   "cell_type": "code",
   "execution_count": 628,
   "metadata": {},
   "outputs": [
    {
     "data": {
      "text/plain": [
       "array([[1., 1., 1., 1., 1., 1., 1., 1., 1.],\n",
       "       [1., 2., 2., 2., 2., 2., 2., 2., 1.],\n",
       "       [1., 2., 2., 2., 2., 2., 2., 2., 1.],\n",
       "       [1., 2., 2., 2., 2., 2., 2., 2., 1.],\n",
       "       [1., 2., 2., 2., 2., 2., 2., 2., 1.],\n",
       "       [1., 2., 2., 2., 2., 2., 2., 2., 1.],\n",
       "       [1., 2., 2., 2., 2., 2., 2., 2., 1.],\n",
       "       [1., 2., 2., 2., 2., 2., 2., 2., 1.],\n",
       "       [1., 1., 1., 1., 1., 1., 1., 1., 1.]])"
      ]
     },
     "execution_count": 628,
     "metadata": {},
     "output_type": "execute_result"
    }
   ],
   "source": [
    "#7\n",
    "\n",
    "def tab_ones(n) : \n",
    "    ex7 = np.ones((n,n))\n",
    "    ex7[1:n - 1, 1:n-1] += 1\n",
    "    return ex7\n",
    "\n",
    "tab_ones(N)"
   ]
  },
  {
   "cell_type": "code",
   "execution_count": 629,
   "metadata": {},
   "outputs": [
    {
     "data": {
      "text/plain": [
       "array([[ 1,  4,  6],\n",
       "       [ 4,  7,  9],\n",
       "       [ 7, 10, 12]])"
      ]
     },
     "execution_count": 629,
     "metadata": {},
     "output_type": "execute_result"
    }
   ],
   "source": [
    "#8\n",
    "\n",
    "ex8 = np.arange(1,10).reshape((3,3))\n",
    "ex8_2 = np.array([0,2,3])\n",
    "ex8 += ex8_2\n",
    "ex8\n"
   ]
  },
  {
   "cell_type": "code",
   "execution_count": 630,
   "metadata": {},
   "outputs": [
    {
     "data": {
      "text/plain": [
       "array([[[ 1,  2],\n",
       "        [ 6,  7],\n",
       "        [11, 12]],\n",
       "\n",
       "       [[ 1,  4],\n",
       "        [ 6,  9],\n",
       "        [11, 14]],\n",
       "\n",
       "       [[ 2,  5],\n",
       "        [ 7, 10],\n",
       "        [12, 15]]])"
      ]
     },
     "execution_count": 630,
     "metadata": {},
     "output_type": "execute_result"
    }
   ],
   "source": [
    "#9\n",
    "\n",
    "a = np.array([\n",
    " [1, 2, 3, 4, 5],\n",
    " [6,7,8,9,10],\n",
    " [11,12,13,14,15]])\n",
    "\n",
    "b = np.array([[0,1], [0,3], [1,4]]) \n",
    "ex9 = np.take(a,b, axis=1)\n",
    "ex9 = np.transpose(ex9,(1,0,2))\n",
    "ex9\n"
   ]
  },
  {
   "cell_type": "code",
   "execution_count": 631,
   "metadata": {},
   "outputs": [
    {
     "name": "stdout",
     "output_type": "stream",
     "text": [
      "Tableau de base : \n",
      " [ 0 14 19  9  3 14 16  1  5 13 14  4 15  5  0  5 19  9 12  7]\n",
      "\n",
      "Tableau après transformation des valeurs supérieure à 10 en 20 : \n",
      " [ 0 20 20  9  3 20 20  1  5 20 20  4 20  5  0  5 20  9 20  7]\n"
     ]
    }
   ],
   "source": [
    "#10\n",
    "\n",
    "ex10 = np.random.randint(20,size=20)\n",
    "print(\"Tableau de base : \\n\",ex10)\n",
    "ex10[ex10 > 10] = 20\n",
    "print(\"\\nTableau après transformation des valeurs supérieure à 10 en 20 : \\n\",ex10)"
   ]
  },
  {
   "cell_type": "code",
   "execution_count": 632,
   "metadata": {},
   "outputs": [
    {
     "name": "stdout",
     "output_type": "stream",
     "text": [
      "Tableau :\n",
      " [0 7 7 7 1 4 8 4 3 3]\n",
      "Il y a au moins une valeur nulle\n"
     ]
    }
   ],
   "source": [
    "#11 \n",
    "\n",
    "ex11 = np.random.randint(10,size=10)\n",
    "print(\"Tableau :\\n\", ex11)\n",
    "if np.all(ex11 != 0) :\n",
    "    print(\"Il n'y a aucune valeur nulle\")\n",
    "else :\n",
    "    print(\"Il y a au moins une valeur nulle\")"
   ]
  },
  {
   "cell_type": "code",
   "execution_count": 633,
   "metadata": {},
   "outputs": [
    {
     "name": "stdout",
     "output_type": "stream",
     "text": [
      "Tableau :\n",
      " [0. 0. 0. 0. 0.]\n",
      "Il y a que des valeurs nulle\n"
     ]
    }
   ],
   "source": [
    "#12\n",
    "\n",
    "ex12 = np.zeros(5)\n",
    "#ex12 = np.array([0.1,0,0,1,0])\n",
    "print(\"Tableau :\\n\", ex12)\n",
    "if np.any(ex12 != 0) :\n",
    "    print(\"Il y a au moins une valeur non nulle\")\n",
    "else :\n",
    "    print(\"Il y a que des valeurs nulle\")\n",
    "    "
   ]
  },
  {
   "cell_type": "code",
   "execution_count": 634,
   "metadata": {},
   "outputs": [
    {
     "data": {
      "text/plain": [
       "array([1, 1, 2, 2, 3, 3, 4, 4])"
      ]
     },
     "execution_count": 634,
     "metadata": {},
     "output_type": "execute_result"
    }
   ],
   "source": [
    "#13\n",
    "\n",
    "ex13 = np.array([1, 2, 3, 4])\n",
    "np.repeat(ex13, 2)"
   ]
  },
  {
   "cell_type": "code",
   "execution_count": 635,
   "metadata": {},
   "outputs": [
    {
     "data": {
      "text/plain": [
       "array([[60, 40, 50],\n",
       "       [10,  8,  9]])"
      ]
     },
     "execution_count": 635,
     "metadata": {},
     "output_type": "execute_result"
    }
   ],
   "source": [
    "#14\n",
    "\n",
    "ex14 = np.array([[ 0, 10, 20, 30],\n",
    " [ 40, 50, 60, 70],\n",
    " [ 80, 90, 100, 110]]) \n",
    "\n",
    "ex14 = ex14[1:, [2, 0, 1]]\n",
    "ex14[1] = ex14[1] // 10\n",
    "ex14"
   ]
  },
  {
   "cell_type": "code",
   "execution_count": 636,
   "metadata": {},
   "outputs": [
    {
     "data": {
      "text/plain": [
       "array([[1, 1, 2, 2, 3, 3],\n",
       "       [1, 1, 2, 2, 3, 3],\n",
       "       [4, 4, 5, 5, 6, 6],\n",
       "       [4, 4, 5, 5, 6, 6],\n",
       "       [7, 7, 8, 8, 9, 9],\n",
       "       [7, 7, 8, 8, 9, 9]])"
      ]
     },
     "execution_count": 636,
     "metadata": {},
     "output_type": "execute_result"
    }
   ],
   "source": [
    "#15\n",
    "\n",
    "ex15 = np.array([[1, 2, 3], [4, 5, 6], [7, 8, 9]])\n",
    "ex15 = np.repeat(ex15, 2, axis=1)\n",
    "np.repeat(ex15,2, axis=0)"
   ]
  },
  {
   "cell_type": "code",
   "execution_count": 637,
   "metadata": {},
   "outputs": [
    {
     "data": {
      "text/plain": [
       "[array([1275, 1441, 1494, 1593]),\n",
       " array([1679, 1533, 1686]),\n",
       " array([1559, 1219, 1455]),\n",
       " array([1605, 1468, 1692, 1613])]"
      ]
     },
     "execution_count": 637,
     "metadata": {},
     "output_type": "execute_result"
    }
   ],
   "source": [
    "#16\n",
    "\n",
    "data = np.array([[1, 1275], [1, 1441], [1, 1494], [1, 1593],\n",
    "              [2, 1679], [2, 1533], [2, 1686],\n",
    "              [3, 1559], [3, 1219], [3, 1455],\n",
    "              [4, 1605], [4, 1468], [4, 1692], [4, 1613]])\n",
    "\n",
    "values = data[:,1]\n",
    "data2 = np.ravel(data[:, [0]])\n",
    "a, indices = np.unique(data2, return_index=True)\n",
    "np.split(values, indices[1:])"
   ]
  },
  {
   "cell_type": "code",
   "execution_count": 638,
   "metadata": {},
   "outputs": [
    {
     "data": {
      "text/plain": [
       "[array([1275, 1441, 1494, 1593]),\n",
       " array([1533, 1686, 1679]),\n",
       " array([1219, 1455, 1559]),\n",
       " array([1468, 1692, 1605, 1613])]"
      ]
     },
     "execution_count": 638,
     "metadata": {},
     "output_type": "execute_result"
    }
   ],
   "source": [
    "#17\n",
    "\n",
    "data = np.array([[1, 1275],[4, 1468], [4, 1692],[2, 1533],\n",
    "                 [2, 1686], [1, 1441], [1, 1494], [1, 1593],\n",
    "                 [3, 1219], [3, 1455],[3, 1559], \n",
    "                 [2, 1679], [4, 1605],  [4, 1613]])\n",
    "\n",
    "a = np.argsort(data[:,0])\n",
    "data = data[a, :]\n",
    "\n",
    "values = data[:,1]\n",
    "data2 = np.ravel(data[:, [0]])\n",
    "a, indices = np.unique(data2, return_index=True)\n",
    "np.split(values, indices[1:])\n"
   ]
  },
  {
   "cell_type": "code",
   "execution_count": 639,
   "metadata": {},
   "outputs": [
    {
     "data": {
      "text/plain": [
       "array([[ 6,  4,  5],\n",
       "       [10,  8,  9]])"
      ]
     },
     "execution_count": 639,
     "metadata": {},
     "output_type": "execute_result"
    }
   ],
   "source": [
    "#18\n",
    "\n",
    "ex18 = np.array([[ 0, 1, 2, 3],\n",
    " [ 4, 5, 6, 7],\n",
    " [ 8, 9, 10, 11]])\n",
    "\n",
    "ex18[1:, [2, 0, 1]]"
   ]
  },
  {
   "cell_type": "code",
   "execution_count": 640,
   "metadata": {},
   "outputs": [
    {
     "data": {
      "text/plain": [
       "array([[2, 2, 2],\n",
       "       [5, 5, 5]])"
      ]
     },
     "execution_count": 640,
     "metadata": {},
     "output_type": "execute_result"
    }
   ],
   "source": [
    "#19\n",
    "\n",
    "ex19 = np.indices((10, 10))[0]\n",
    "ex19[ex19 <= 5].reshape(6,-1)[2::3,2::3]\n"
   ]
  },
  {
   "cell_type": "code",
   "execution_count": 641,
   "metadata": {},
   "outputs": [
    {
     "data": {
      "text/plain": [
       "array([[1, 2, 3],\n",
       "       [4, 0, 6],\n",
       "       [0, 0, 0]])"
      ]
     },
     "execution_count": 641,
     "metadata": {},
     "output_type": "execute_result"
    }
   ],
   "source": [
    "#20\n",
    "\n",
    "\n",
    "a = np.array([[1, 2, 3],\n",
    " [4, 5, 6],\n",
    " [7, 8, 9]])\n",
    "b = np.array([2, 1, 2])\n",
    "mask = np.arange(3)[:,None] >= b\n",
    "a[mask] = 0\n",
    "a"
   ]
  },
  {
   "cell_type": "code",
   "execution_count": 642,
   "metadata": {},
   "outputs": [
    {
     "data": {
      "text/plain": [
       "array([[[ 0,  1,  2,  3],\n",
       "        [ 8,  9, 10, 11]],\n",
       "\n",
       "       [[12, 13, 14, 15],\n",
       "        [20, 21, 22, 23]]])"
      ]
     },
     "execution_count": 642,
     "metadata": {},
     "output_type": "execute_result"
    }
   ],
   "source": [
    "#21\n",
    "\n",
    "ex21 = np.array([[[ 0, 1, 2, 3],\n",
    "               [ 4, 5, 6, 7],\n",
    "               [ 8, 9, 10, 11]],\n",
    "              [[12, 13, 14, 15],\n",
    "               [16, 17, 18, 19],\n",
    "               [20, 21, 22, 23]]])\n",
    "ex21[:,::2]\n"
   ]
  }
 ],
 "metadata": {
  "kernelspec": {
   "display_name": "VEnv",
   "language": "python",
   "name": "python3"
  },
  "language_info": {
   "codemirror_mode": {
    "name": "ipython",
    "version": 3
   },
   "file_extension": ".py",
   "mimetype": "text/x-python",
   "name": "python",
   "nbconvert_exporter": "python",
   "pygments_lexer": "ipython3",
   "version": "3.7.7"
  },
  "orig_nbformat": 4
 },
 "nbformat": 4,
 "nbformat_minor": 2
}
